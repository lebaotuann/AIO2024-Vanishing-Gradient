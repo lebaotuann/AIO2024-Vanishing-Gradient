{
  "cells": [
    {
      "cell_type": "markdown",
      "source": [
        "# **MLP - Vanishing Gradient: Weight Increasing**"
      ],
      "metadata": {
        "id": "7PYihw1rbX27"
      },
      "id": "7PYihw1rbX27"
    },
    {
      "cell_type": "markdown",
      "id": "HItsinp0SFqA",
      "metadata": {
        "id": "HItsinp0SFqA"
      },
      "source": [
        "## **0. Import libraries**"
      ]
    },
    {
      "cell_type": "code",
      "execution_count": 1,
      "id": "bb96f0ec-3525-4e79-9ad1-8e95c15a9cf2",
      "metadata": {
        "id": "bb96f0ec-3525-4e79-9ad1-8e95c15a9cf2"
      },
      "outputs": [],
      "source": [
        "import torch\n",
        "import random\n",
        "from torch import nn\n",
        "import torch.optim as optim\n",
        "from torch.utils.data import Dataset, DataLoader, random_split\n",
        "import torchvision\n",
        "from torchvision.datasets import FashionMNIST\n",
        "import matplotlib.pyplot as plt\n",
        "import torchvision.transforms as transforms\n",
        "import numpy as np\n",
        "\n",
        "device = torch.device('cuda:0' if torch.cuda.is_available() else 'cpu')"
      ]
    },
    {
      "cell_type": "code",
      "source": [
        "def set_seed(seed):\n",
        "    random.seed(seed)\n",
        "    np.random.seed(seed)\n",
        "    torch.manual_seed(seed)\n",
        "    torch.cuda.manual_seed(seed)\n",
        "    torch.cuda.manual_seed_all(seed)\n",
        "    torch.backends.cudnn.deterministic = True\n",
        "    torch.backends.cudnn.benchmark = False\n",
        "\n",
        "SEED = 42\n",
        "set_seed(SEED)"
      ],
      "metadata": {
        "id": "P3ehfc2p0vqq"
      },
      "id": "P3ehfc2p0vqq",
      "execution_count": 2,
      "outputs": []
    },
    {
      "cell_type": "markdown",
      "source": [
        "## **1. Prepare dataset**\n"
      ],
      "metadata": {
        "id": "Mw6hLiNAugrD"
      },
      "id": "Mw6hLiNAugrD"
    },
    {
      "cell_type": "code",
      "execution_count": 3,
      "id": "c73f1e96-b8ea-4b8f-b4f3-9b3f27b42acd",
      "metadata": {
        "id": "c73f1e96-b8ea-4b8f-b4f3-9b3f27b42acd",
        "colab": {
          "base_uri": "https://localhost:8080/"
        },
        "outputId": "f0932892-29d4-4516-8575-c46d13edcda8"
      },
      "outputs": [
        {
          "output_type": "stream",
          "name": "stdout",
          "text": [
            "Downloading http://fashion-mnist.s3-website.eu-central-1.amazonaws.com/train-images-idx3-ubyte.gz\n",
            "Downloading http://fashion-mnist.s3-website.eu-central-1.amazonaws.com/train-images-idx3-ubyte.gz to ./data/FashionMNIST/raw/train-images-idx3-ubyte.gz\n"
          ]
        },
        {
          "output_type": "stream",
          "name": "stderr",
          "text": [
            "100%|██████████| 26.4M/26.4M [00:02<00:00, 12.0MB/s]\n"
          ]
        },
        {
          "output_type": "stream",
          "name": "stdout",
          "text": [
            "Extracting ./data/FashionMNIST/raw/train-images-idx3-ubyte.gz to ./data/FashionMNIST/raw\n",
            "\n",
            "Downloading http://fashion-mnist.s3-website.eu-central-1.amazonaws.com/train-labels-idx1-ubyte.gz\n",
            "Downloading http://fashion-mnist.s3-website.eu-central-1.amazonaws.com/train-labels-idx1-ubyte.gz to ./data/FashionMNIST/raw/train-labels-idx1-ubyte.gz\n"
          ]
        },
        {
          "output_type": "stream",
          "name": "stderr",
          "text": [
            "100%|██████████| 29.5k/29.5k [00:00<00:00, 200kB/s]\n"
          ]
        },
        {
          "output_type": "stream",
          "name": "stdout",
          "text": [
            "Extracting ./data/FashionMNIST/raw/train-labels-idx1-ubyte.gz to ./data/FashionMNIST/raw\n",
            "\n",
            "Downloading http://fashion-mnist.s3-website.eu-central-1.amazonaws.com/t10k-images-idx3-ubyte.gz\n",
            "Downloading http://fashion-mnist.s3-website.eu-central-1.amazonaws.com/t10k-images-idx3-ubyte.gz to ./data/FashionMNIST/raw/t10k-images-idx3-ubyte.gz\n"
          ]
        },
        {
          "output_type": "stream",
          "name": "stderr",
          "text": [
            "100%|██████████| 4.42M/4.42M [00:01<00:00, 3.76MB/s]\n"
          ]
        },
        {
          "output_type": "stream",
          "name": "stdout",
          "text": [
            "Extracting ./data/FashionMNIST/raw/t10k-images-idx3-ubyte.gz to ./data/FashionMNIST/raw\n",
            "\n",
            "Downloading http://fashion-mnist.s3-website.eu-central-1.amazonaws.com/t10k-labels-idx1-ubyte.gz\n",
            "Downloading http://fashion-mnist.s3-website.eu-central-1.amazonaws.com/t10k-labels-idx1-ubyte.gz to ./data/FashionMNIST/raw/t10k-labels-idx1-ubyte.gz\n"
          ]
        },
        {
          "output_type": "stream",
          "name": "stderr",
          "text": [
            "100%|██████████| 5.15k/5.15k [00:00<00:00, 6.14MB/s]"
          ]
        },
        {
          "output_type": "stream",
          "name": "stdout",
          "text": [
            "Extracting ./data/FashionMNIST/raw/t10k-labels-idx1-ubyte.gz to ./data/FashionMNIST/raw\n",
            "\n",
            "Train size: 54000\n",
            "Validation size: 6000\n",
            "Test size: 10000\n"
          ]
        },
        {
          "output_type": "stream",
          "name": "stderr",
          "text": [
            "\n"
          ]
        }
      ],
      "source": [
        "batch_size = 512\n",
        "\n",
        "train_dataset = FashionMNIST(root='./data', train=True, download=True, transform=transforms.ToTensor())\n",
        "test_dataset = FashionMNIST(root='./data', train=False, download=True, transform=transforms.ToTensor())\n",
        "\n",
        "train_ratio = 0.9\n",
        "train_size = int(len(train_dataset) * train_ratio)\n",
        "val_size = len(train_dataset) - train_size\n",
        "\n",
        "train_subset, val_subset = random_split(train_dataset, [train_size, val_size])\n",
        "\n",
        "train_loader = DataLoader(train_subset, batch_size=batch_size, shuffle=True)\n",
        "val_loader = DataLoader(val_subset, batch_size=batch_size, shuffle=False)\n",
        "test_loader = DataLoader(test_dataset, batch_size=batch_size, shuffle=False)\n",
        "\n",
        "print(f\"Train size: {len(train_subset)}\")\n",
        "print(f\"Validation size: {len(val_subset)}\")\n",
        "print(f\"Test size: {len(test_dataset)}\")"
      ]
    },
    {
      "cell_type": "markdown",
      "id": "75eeaa46",
      "metadata": {
        "id": "75eeaa46"
      },
      "source": [
        "## **2. Build MLP network**\n",
        "\n",
        "\n"
      ]
    },
    {
      "cell_type": "code",
      "source": [
        "class MLP(nn.Module):\n",
        "    def __init__(self, input_dims, hidden_dims, output_dims):\n",
        "        super(MLP, self).__init__()\n",
        "        self.layer1 = nn.Linear(input_dims, hidden_dims)\n",
        "        self.layer2 = nn.Linear(hidden_dims, hidden_dims)\n",
        "        self.layer3 = nn.Linear(hidden_dims, hidden_dims)\n",
        "        self.layer4 = nn.Linear(hidden_dims, hidden_dims)\n",
        "        self.layer5 = nn.Linear(hidden_dims, hidden_dims)\n",
        "        self.layer6 = nn.Linear(hidden_dims, hidden_dims)\n",
        "        self.layer7 = nn.Linear(hidden_dims, hidden_dims)\n",
        "        self.output = nn.Linear(hidden_dims, output_dims)\n",
        "\n",
        "        for module in self.modules():\n",
        "            if isinstance(module, nn.Linear):\n",
        "                nn.init.normal_(module.weight, mean=0.0, std=1.0)  # std = 10\n",
        "                nn.init.constant_(module.bias, 0.0)\n",
        "\n",
        "    def forward(self, x):\n",
        "        x = nn.Flatten()(x)\n",
        "        x = self.layer1(x)\n",
        "        x = nn.Sigmoid()(x)\n",
        "        x = self.layer2(x)\n",
        "        x = nn.Sigmoid()(x)\n",
        "        x = self.layer3(x)\n",
        "        x = nn.Sigmoid()(x)\n",
        "        x = self.layer4(x)\n",
        "        x = nn.Sigmoid()(x)\n",
        "        x = self.layer5(x)\n",
        "        x = nn.Sigmoid()(x)\n",
        "        x = self.layer6(x)\n",
        "        x = nn.Sigmoid()(x)\n",
        "        x = self.layer7(x)\n",
        "        x = nn.Sigmoid()(x)\n",
        "        out = self.output(x)\n",
        "        return out"
      ],
      "metadata": {
        "id": "jLkDvYZkgjoI"
      },
      "id": "jLkDvYZkgjoI",
      "execution_count": 14,
      "outputs": []
    },
    {
      "cell_type": "code",
      "execution_count": 15,
      "id": "0db5beca-ee90-4d2e-bb2f-62b20da68cf3",
      "metadata": {
        "id": "0db5beca-ee90-4d2e-bb2f-62b20da68cf3"
      },
      "outputs": [],
      "source": [
        "input_dims = 784\n",
        "hidden_dims = 128\n",
        "output_dims = 10\n",
        "lr = 1e-2\n",
        "\n",
        "model = MLP(input_dims=input_dims,\n",
        "            hidden_dims=hidden_dims,\n",
        "            output_dims=output_dims).to(device)\n",
        "\n",
        "criterion = nn.CrossEntropyLoss()\n",
        "optimizer = optim.SGD(model.parameters(), lr=lr)"
      ]
    },
    {
      "cell_type": "markdown",
      "source": [
        "## **3. Training**"
      ],
      "metadata": {
        "id": "lBS7q-JzwFgC"
      },
      "id": "lBS7q-JzwFgC"
    },
    {
      "cell_type": "code",
      "execution_count": 16,
      "id": "21211483-aeed-4beb-aeea-d1e58ae7baf9",
      "metadata": {
        "id": "21211483-aeed-4beb-aeea-d1e58ae7baf9",
        "colab": {
          "base_uri": "https://localhost:8080/"
        },
        "outputId": "8b06b2cd-a78a-4676-e133-485e661bcf04"
      },
      "outputs": [
        {
          "output_type": "stream",
          "name": "stdout",
          "text": [
            "EPOCH 1/100, Train_Loss: 3.4652, Train_Acc: 0.1897, Validation Loss: 1.3319, Val_Acc: 0.2753\n",
            "EPOCH 2/100, Train_Loss: 2.0052, Train_Acc: 0.3305, Validation Loss: 1.1115, Val_Acc: 0.3757\n",
            "EPOCH 3/100, Train_Loss: 1.7463, Train_Acc: 0.4059, Validation Loss: 1.0074, Val_Acc: 0.4248\n",
            "EPOCH 4/100, Train_Loss: 1.5959, Train_Acc: 0.4503, Validation Loss: 0.9410, Val_Acc: 0.4578\n",
            "EPOCH 5/100, Train_Loss: 1.4930, Train_Acc: 0.4806, Validation Loss: 0.8910, Val_Acc: 0.4863\n",
            "EPOCH 6/100, Train_Loss: 1.4128, Train_Acc: 0.5046, Validation Loss: 0.8520, Val_Acc: 0.5047\n",
            "EPOCH 7/100, Train_Loss: 1.3493, Train_Acc: 0.5244, Validation Loss: 0.8181, Val_Acc: 0.5243\n",
            "EPOCH 8/100, Train_Loss: 1.2971, Train_Acc: 0.5418, Validation Loss: 0.7903, Val_Acc: 0.5390\n",
            "EPOCH 9/100, Train_Loss: 1.2522, Train_Acc: 0.5551, Validation Loss: 0.7654, Val_Acc: 0.5463\n",
            "EPOCH 10/100, Train_Loss: 1.2147, Train_Acc: 0.5665, Validation Loss: 0.7444, Val_Acc: 0.5607\n",
            "EPOCH 11/100, Train_Loss: 1.1818, Train_Acc: 0.5775, Validation Loss: 0.7257, Val_Acc: 0.5718\n",
            "EPOCH 12/100, Train_Loss: 1.1527, Train_Acc: 0.5856, Validation Loss: 0.7095, Val_Acc: 0.5803\n",
            "EPOCH 13/100, Train_Loss: 1.1274, Train_Acc: 0.5944, Validation Loss: 0.6946, Val_Acc: 0.5890\n",
            "EPOCH 14/100, Train_Loss: 1.1032, Train_Acc: 0.6032, Validation Loss: 0.6805, Val_Acc: 0.5933\n",
            "EPOCH 15/100, Train_Loss: 1.0817, Train_Acc: 0.6096, Validation Loss: 0.6678, Val_Acc: 0.6047\n",
            "EPOCH 16/100, Train_Loss: 1.0625, Train_Acc: 0.6156, Validation Loss: 0.6573, Val_Acc: 0.6067\n",
            "EPOCH 17/100, Train_Loss: 1.0439, Train_Acc: 0.6227, Validation Loss: 0.6470, Val_Acc: 0.6130\n",
            "EPOCH 18/100, Train_Loss: 1.0285, Train_Acc: 0.6282, Validation Loss: 0.6371, Val_Acc: 0.6247\n",
            "EPOCH 19/100, Train_Loss: 1.0125, Train_Acc: 0.6336, Validation Loss: 0.6285, Val_Acc: 0.6282\n",
            "EPOCH 20/100, Train_Loss: 0.9990, Train_Acc: 0.6384, Validation Loss: 0.6211, Val_Acc: 0.6322\n",
            "EPOCH 21/100, Train_Loss: 0.9861, Train_Acc: 0.6423, Validation Loss: 0.6138, Val_Acc: 0.6352\n",
            "EPOCH 22/100, Train_Loss: 0.9737, Train_Acc: 0.6468, Validation Loss: 0.6072, Val_Acc: 0.6422\n",
            "EPOCH 23/100, Train_Loss: 0.9629, Train_Acc: 0.6511, Validation Loss: 0.6011, Val_Acc: 0.6462\n",
            "EPOCH 24/100, Train_Loss: 0.9520, Train_Acc: 0.6552, Validation Loss: 0.5953, Val_Acc: 0.6470\n",
            "EPOCH 25/100, Train_Loss: 0.9425, Train_Acc: 0.6584, Validation Loss: 0.5895, Val_Acc: 0.6498\n",
            "EPOCH 26/100, Train_Loss: 0.9331, Train_Acc: 0.6617, Validation Loss: 0.5839, Val_Acc: 0.6533\n",
            "EPOCH 27/100, Train_Loss: 0.9244, Train_Acc: 0.6649, Validation Loss: 0.5791, Val_Acc: 0.6543\n",
            "EPOCH 28/100, Train_Loss: 0.9160, Train_Acc: 0.6678, Validation Loss: 0.5745, Val_Acc: 0.6565\n",
            "EPOCH 29/100, Train_Loss: 0.9081, Train_Acc: 0.6711, Validation Loss: 0.5703, Val_Acc: 0.6583\n",
            "EPOCH 30/100, Train_Loss: 0.9010, Train_Acc: 0.6736, Validation Loss: 0.5661, Val_Acc: 0.6580\n",
            "EPOCH 31/100, Train_Loss: 0.8938, Train_Acc: 0.6753, Validation Loss: 0.5621, Val_Acc: 0.6610\n",
            "EPOCH 32/100, Train_Loss: 0.8867, Train_Acc: 0.6780, Validation Loss: 0.5591, Val_Acc: 0.6640\n",
            "EPOCH 33/100, Train_Loss: 0.8808, Train_Acc: 0.6796, Validation Loss: 0.5552, Val_Acc: 0.6653\n",
            "EPOCH 34/100, Train_Loss: 0.8743, Train_Acc: 0.6829, Validation Loss: 0.5516, Val_Acc: 0.6645\n",
            "EPOCH 35/100, Train_Loss: 0.8685, Train_Acc: 0.6841, Validation Loss: 0.5477, Val_Acc: 0.6682\n",
            "EPOCH 36/100, Train_Loss: 0.8622, Train_Acc: 0.6861, Validation Loss: 0.5454, Val_Acc: 0.6692\n",
            "EPOCH 37/100, Train_Loss: 0.8577, Train_Acc: 0.6877, Validation Loss: 0.5420, Val_Acc: 0.6685\n",
            "EPOCH 38/100, Train_Loss: 0.8519, Train_Acc: 0.6899, Validation Loss: 0.5385, Val_Acc: 0.6728\n",
            "EPOCH 39/100, Train_Loss: 0.8472, Train_Acc: 0.6916, Validation Loss: 0.5358, Val_Acc: 0.6750\n",
            "EPOCH 40/100, Train_Loss: 0.8432, Train_Acc: 0.6943, Validation Loss: 0.5338, Val_Acc: 0.6747\n",
            "EPOCH 41/100, Train_Loss: 0.8381, Train_Acc: 0.6950, Validation Loss: 0.5311, Val_Acc: 0.6773\n",
            "EPOCH 42/100, Train_Loss: 0.8331, Train_Acc: 0.6960, Validation Loss: 0.5288, Val_Acc: 0.6803\n",
            "EPOCH 43/100, Train_Loss: 0.8292, Train_Acc: 0.6982, Validation Loss: 0.5259, Val_Acc: 0.6825\n",
            "EPOCH 44/100, Train_Loss: 0.8245, Train_Acc: 0.6987, Validation Loss: 0.5236, Val_Acc: 0.6838\n",
            "EPOCH 45/100, Train_Loss: 0.8204, Train_Acc: 0.7004, Validation Loss: 0.5212, Val_Acc: 0.6863\n",
            "EPOCH 46/100, Train_Loss: 0.8164, Train_Acc: 0.7020, Validation Loss: 0.5191, Val_Acc: 0.6872\n",
            "EPOCH 47/100, Train_Loss: 0.8135, Train_Acc: 0.7034, Validation Loss: 0.5176, Val_Acc: 0.6885\n",
            "EPOCH 48/100, Train_Loss: 0.8091, Train_Acc: 0.7046, Validation Loss: 0.5150, Val_Acc: 0.6892\n",
            "EPOCH 49/100, Train_Loss: 0.8053, Train_Acc: 0.7059, Validation Loss: 0.5137, Val_Acc: 0.6895\n",
            "EPOCH 50/100, Train_Loss: 0.8014, Train_Acc: 0.7077, Validation Loss: 0.5114, Val_Acc: 0.6920\n",
            "EPOCH 51/100, Train_Loss: 0.7988, Train_Acc: 0.7081, Validation Loss: 0.5093, Val_Acc: 0.6935\n",
            "EPOCH 52/100, Train_Loss: 0.7958, Train_Acc: 0.7102, Validation Loss: 0.5073, Val_Acc: 0.6952\n",
            "EPOCH 53/100, Train_Loss: 0.7924, Train_Acc: 0.7105, Validation Loss: 0.5056, Val_Acc: 0.6942\n",
            "EPOCH 54/100, Train_Loss: 0.7890, Train_Acc: 0.7124, Validation Loss: 0.5040, Val_Acc: 0.6967\n",
            "EPOCH 55/100, Train_Loss: 0.7856, Train_Acc: 0.7134, Validation Loss: 0.5022, Val_Acc: 0.6988\n",
            "EPOCH 56/100, Train_Loss: 0.7827, Train_Acc: 0.7147, Validation Loss: 0.5006, Val_Acc: 0.6975\n",
            "EPOCH 57/100, Train_Loss: 0.7799, Train_Acc: 0.7148, Validation Loss: 0.4990, Val_Acc: 0.7015\n",
            "EPOCH 58/100, Train_Loss: 0.7767, Train_Acc: 0.7166, Validation Loss: 0.4973, Val_Acc: 0.7018\n",
            "EPOCH 59/100, Train_Loss: 0.7741, Train_Acc: 0.7177, Validation Loss: 0.4955, Val_Acc: 0.7025\n",
            "EPOCH 60/100, Train_Loss: 0.7723, Train_Acc: 0.7189, Validation Loss: 0.4937, Val_Acc: 0.7037\n",
            "EPOCH 61/100, Train_Loss: 0.7690, Train_Acc: 0.7196, Validation Loss: 0.4929, Val_Acc: 0.7048\n",
            "EPOCH 62/100, Train_Loss: 0.7667, Train_Acc: 0.7201, Validation Loss: 0.4907, Val_Acc: 0.7065\n",
            "EPOCH 63/100, Train_Loss: 0.7640, Train_Acc: 0.7215, Validation Loss: 0.4903, Val_Acc: 0.7058\n",
            "EPOCH 64/100, Train_Loss: 0.7617, Train_Acc: 0.7218, Validation Loss: 0.4887, Val_Acc: 0.7072\n",
            "EPOCH 65/100, Train_Loss: 0.7588, Train_Acc: 0.7232, Validation Loss: 0.4874, Val_Acc: 0.7085\n",
            "EPOCH 66/100, Train_Loss: 0.7567, Train_Acc: 0.7244, Validation Loss: 0.4859, Val_Acc: 0.7085\n",
            "EPOCH 67/100, Train_Loss: 0.7542, Train_Acc: 0.7244, Validation Loss: 0.4844, Val_Acc: 0.7098\n",
            "EPOCH 68/100, Train_Loss: 0.7518, Train_Acc: 0.7261, Validation Loss: 0.4832, Val_Acc: 0.7113\n",
            "EPOCH 69/100, Train_Loss: 0.7501, Train_Acc: 0.7266, Validation Loss: 0.4817, Val_Acc: 0.7140\n",
            "EPOCH 70/100, Train_Loss: 0.7477, Train_Acc: 0.7277, Validation Loss: 0.4809, Val_Acc: 0.7132\n",
            "EPOCH 71/100, Train_Loss: 0.7450, Train_Acc: 0.7286, Validation Loss: 0.4799, Val_Acc: 0.7133\n",
            "EPOCH 72/100, Train_Loss: 0.7432, Train_Acc: 0.7287, Validation Loss: 0.4782, Val_Acc: 0.7123\n",
            "EPOCH 73/100, Train_Loss: 0.7411, Train_Acc: 0.7297, Validation Loss: 0.4773, Val_Acc: 0.7150\n",
            "EPOCH 74/100, Train_Loss: 0.7390, Train_Acc: 0.7304, Validation Loss: 0.4761, Val_Acc: 0.7160\n",
            "EPOCH 75/100, Train_Loss: 0.7372, Train_Acc: 0.7314, Validation Loss: 0.4751, Val_Acc: 0.7160\n",
            "EPOCH 76/100, Train_Loss: 0.7345, Train_Acc: 0.7315, Validation Loss: 0.4741, Val_Acc: 0.7177\n",
            "EPOCH 77/100, Train_Loss: 0.7336, Train_Acc: 0.7326, Validation Loss: 0.4731, Val_Acc: 0.7165\n",
            "EPOCH 78/100, Train_Loss: 0.7314, Train_Acc: 0.7333, Validation Loss: 0.4716, Val_Acc: 0.7175\n",
            "EPOCH 79/100, Train_Loss: 0.7300, Train_Acc: 0.7336, Validation Loss: 0.4703, Val_Acc: 0.7170\n",
            "EPOCH 80/100, Train_Loss: 0.7272, Train_Acc: 0.7343, Validation Loss: 0.4698, Val_Acc: 0.7212\n",
            "EPOCH 81/100, Train_Loss: 0.7256, Train_Acc: 0.7348, Validation Loss: 0.4686, Val_Acc: 0.7205\n",
            "EPOCH 82/100, Train_Loss: 0.7237, Train_Acc: 0.7358, Validation Loss: 0.4681, Val_Acc: 0.7210\n",
            "EPOCH 83/100, Train_Loss: 0.7221, Train_Acc: 0.7357, Validation Loss: 0.4664, Val_Acc: 0.7193\n",
            "EPOCH 84/100, Train_Loss: 0.7207, Train_Acc: 0.7367, Validation Loss: 0.4660, Val_Acc: 0.7205\n",
            "EPOCH 85/100, Train_Loss: 0.7186, Train_Acc: 0.7373, Validation Loss: 0.4653, Val_Acc: 0.7247\n",
            "EPOCH 86/100, Train_Loss: 0.7168, Train_Acc: 0.7371, Validation Loss: 0.4641, Val_Acc: 0.7230\n",
            "EPOCH 87/100, Train_Loss: 0.7158, Train_Acc: 0.7385, Validation Loss: 0.4635, Val_Acc: 0.7240\n",
            "EPOCH 88/100, Train_Loss: 0.7133, Train_Acc: 0.7385, Validation Loss: 0.4621, Val_Acc: 0.7245\n",
            "EPOCH 89/100, Train_Loss: 0.7121, Train_Acc: 0.7390, Validation Loss: 0.4614, Val_Acc: 0.7258\n",
            "EPOCH 90/100, Train_Loss: 0.7105, Train_Acc: 0.7397, Validation Loss: 0.4611, Val_Acc: 0.7252\n",
            "EPOCH 91/100, Train_Loss: 0.7093, Train_Acc: 0.7401, Validation Loss: 0.4605, Val_Acc: 0.7245\n",
            "EPOCH 92/100, Train_Loss: 0.7081, Train_Acc: 0.7411, Validation Loss: 0.4589, Val_Acc: 0.7260\n",
            "EPOCH 93/100, Train_Loss: 0.7056, Train_Acc: 0.7414, Validation Loss: 0.4579, Val_Acc: 0.7272\n",
            "EPOCH 94/100, Train_Loss: 0.7045, Train_Acc: 0.7422, Validation Loss: 0.4572, Val_Acc: 0.7267\n",
            "EPOCH 95/100, Train_Loss: 0.7029, Train_Acc: 0.7424, Validation Loss: 0.4570, Val_Acc: 0.7277\n",
            "EPOCH 96/100, Train_Loss: 0.7015, Train_Acc: 0.7428, Validation Loss: 0.4562, Val_Acc: 0.7273\n",
            "EPOCH 97/100, Train_Loss: 0.7000, Train_Acc: 0.7433, Validation Loss: 0.4548, Val_Acc: 0.7288\n",
            "EPOCH 98/100, Train_Loss: 0.6984, Train_Acc: 0.7442, Validation Loss: 0.4541, Val_Acc: 0.7293\n",
            "EPOCH 99/100, Train_Loss: 0.6969, Train_Acc: 0.7443, Validation Loss: 0.4537, Val_Acc: 0.7313\n",
            "EPOCH 100/100, Train_Loss: 0.6957, Train_Acc: 0.7456, Validation Loss: 0.4529, Val_Acc: 0.7302\n"
          ]
        }
      ],
      "source": [
        "epochs = 100\n",
        "train_loss_lst = []\n",
        "train_acc_lst = []\n",
        "val_loss_lst = []\n",
        "val_acc_lst = []\n",
        "\n",
        "for epoch in range(epochs):\n",
        "    train_loss = 0.0\n",
        "    train_acc = 0.0\n",
        "    count = 0\n",
        "\n",
        "    model.train()\n",
        "    for X_train, y_train in train_loader:\n",
        "        X_train, y_train = X_train.to(device), y_train.to(device)\n",
        "        optimizer.zero_grad()\n",
        "        outputs = model(X_train)\n",
        "        loss = criterion(outputs, y_train)\n",
        "        loss.backward()\n",
        "        optimizer.step()\n",
        "        train_loss += loss.item()\n",
        "        train_acc += (torch.argmax(outputs, 1) == y_train).sum().item()\n",
        "        count += len(y_train)\n",
        "\n",
        "    train_loss /= len(train_loader)\n",
        "    train_loss_lst.append(train_loss)\n",
        "    train_acc /= count\n",
        "    train_acc_lst.append(train_acc)\n",
        "\n",
        "    val_loss = 0.0\n",
        "    val_acc = 0.0\n",
        "    count = 0\n",
        "    model.eval()\n",
        "    with torch.no_grad():\n",
        "        for X_val, y_val in val_loader:\n",
        "            X_val, y_val = X_val.to(device), y_val.to(device)\n",
        "            outputs = model(X_val)\n",
        "            loss = criterion(outputs, y_val)\n",
        "            val_loss += loss.item()\n",
        "            val_acc += (torch.argmax(outputs, 1) == y_val).sum().item()\n",
        "            count += len(y_val)\n",
        "\n",
        "    val_loss /= len(test_loader)\n",
        "    val_loss_lst.append(val_loss)\n",
        "    val_acc /= count\n",
        "    val_acc_lst.append(val_acc)\n",
        "\n",
        "    print(f\"EPOCH {epoch+1}/{epochs}, Train_Loss: {train_loss:.4f}, Train_Acc: {train_acc:.4f}, Validation Loss: {val_loss:.4f}, Val_Acc: {val_acc:.4f}\")"
      ]
    },
    {
      "cell_type": "code",
      "execution_count": 17,
      "id": "321d7070-b736-4ebb-94fa-59cd37ff50b3",
      "metadata": {
        "id": "321d7070-b736-4ebb-94fa-59cd37ff50b3",
        "colab": {
          "base_uri": "https://localhost:8080/",
          "height": 872
        },
        "outputId": "190ac505-768d-434a-f062-35024987fb8b"
      },
      "outputs": [
        {
          "output_type": "display_data",
          "data": {
            "text/plain": [
              "<Figure size 1200x1000 with 4 Axes>"
            ],
            "image/png": "[encoded data removed]"
          },
          "metadata": {}
        }
      ],
      "source": [
        "fig, ax = plt.subplots(2, 2, figsize=(12, 10))\n",
        "ax[0, 0].plot(train_loss_lst, color='green')\n",
        "ax[0, 0].set(xlabel='Epoch', ylabel='Loss')\n",
        "ax[0, 0].set_title('Training Loss')\n",
        "\n",
        "ax[0, 1].plot(val_loss_lst, color='orange')\n",
        "ax[0, 1].set(xlabel='Epoch', ylabel='Loss')\n",
        "ax[0, 1].set_title('Validation Loss')\n",
        "\n",
        "ax[1, 0].plot(train_acc_lst, color='green')\n",
        "ax[1, 0].set(xlabel='Epoch', ylabel='Accuracy')\n",
        "ax[1, 0].set_title('Training Accuracy')\n",
        "\n",
        "ax[1, 1].plot(val_acc_lst, color='orange')\n",
        "ax[1, 1].set(xlabel='Epoch', ylabel='Accuracy')\n",
        "ax[1, 1].set_title('Validation Accuracy')\n",
        "\n",
        "plt.show()"
      ]
    },
    {
      "cell_type": "markdown",
      "source": [
        "## **4. Evaluation**"
      ],
      "metadata": {
        "id": "CY9OpDyiPL2V"
      },
      "id": "CY9OpDyiPL2V"
    },
    {
      "cell_type": "code",
      "source": [
        "val_target = []\n",
        "val_predict = []\n",
        "\n",
        "model.eval()\n",
        "with torch.no_grad():\n",
        "    for X_val, y_val in val_loader:\n",
        "        X_val = X_val.to(device)\n",
        "        y_val = y_val.to(device)\n",
        "        outputs = model(X_val)\n",
        "\n",
        "        val_predict.append(outputs.cpu())\n",
        "        val_target.append(y_val.cpu())\n",
        "\n",
        "    val_predict = torch.cat(val_predict)\n",
        "    val_target = torch.cat(val_target)\n",
        "    val_acc = (torch.argmax(val_predict, 1) == val_target).sum().item() / len(val_target)\n",
        "\n",
        "    print('Evaluation on val set:')\n",
        "    print(f'Accuracy: {val_acc}')"
      ],
      "metadata": {
        "id": "VC8cygPWPKy6",
        "colab": {
          "base_uri": "https://localhost:8080/"
        },
        "outputId": "87b013b8-80f4-4c54-c193-a6988e677b4b"
      },
      "execution_count": 18,
      "outputs": [
        {
          "output_type": "stream",
          "name": "stdout",
          "text": [
            "Evaluation on val set:\n",
            "Accuracy: 0.7301666666666666\n"
          ]
        }
      ],
      "id": "VC8cygPWPKy6"
    }
  ],
  "metadata": {
    "colab": {
      "provenance": [],
      "gpuType": "T4"
    },
    "kernelspec": {
      "display_name": "Python 3",
      "name": "python3"
    },
    "language_info": {
      "codemirror_mode": {
        "name": "ipython",
        "version": 3
      },
      "file_extension": ".py",
      "mimetype": "text/x-python",
      "name": "python",
      "nbconvert_exporter": "python",
      "pygments_lexer": "ipython3",
      "version": "3.10.13"
    },
    "toc": {
      "base_numbering": 1,
      "nav_menu": {},
      "number_sections": true,
      "sideBar": true,
      "skip_h1_title": false,
      "title_cell": "Table of Contents",
      "title_sidebar": "Contents",
      "toc_cell": false,
      "toc_position": {},
      "toc_section_display": true,
      "toc_window_display": true
    },
    "accelerator": "GPU"
  },
  "nbformat": 4,
  "nbformat_minor": 5
}